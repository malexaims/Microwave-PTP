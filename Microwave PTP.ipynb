{
 "cells": [
  {
   "cell_type": "markdown",
   "metadata": {
    "collapsed": true
   },
   "source": [
    "# Microwave Point to Point Link Recieved Signal Strength Calculations"
   ]
  },
  {
   "cell_type": "markdown",
   "metadata": {},
   "source": [
    "#### Project Name:\n",
    "#### Project Number:\n",
    "##### Calculated By:\n",
    "###### Date:\n",
    "##### Checked By:\n",
    "###### Date:"
   ]
  },
  {
   "cell_type": "markdown",
   "metadata": {},
   "source": [
    "#### Import the Python libraries needed to perform the calculations:"
   ]
  },
  {
   "cell_type": "code",
   "execution_count": 1,
   "metadata": {
    "collapsed": true
   },
   "outputs": [],
   "source": [
    "from math import *"
   ]
  },
  {
   "cell_type": "markdown",
   "metadata": {},
   "source": [
    "## Determine Losses Between Antenna and Transmitter or Reciever\n",
    "\n",
    "$L_{cable} = L_0 * (d_{cable} / 100)$\n",
    "\n",
    "$L_{tx}$ and $L_{rx} = L_{cable} + L_{misc.}$\n",
    "\n",
    "$L_0$ = cable signal loss in dB per 100 ft from manufacturer data sheet <br>\n",
    "$d_{cable}$ = length of cable in feet from antenna to transmitter or reciever <br>\n",
    "$L_{misc.}$ = all combiner/splitter or other losses in dB between antenna and transmitter or reciever\n",
    "\n"
   ]
  },
  {
   "cell_type": "code",
   "execution_count": 9,
   "metadata": {
    "collapsed": true
   },
   "outputs": [],
   "source": [
    "def cable_loss(L_0, d, L_misc):\n",
    "    L_cable = L_0 * (d / 100.0)\n",
    "    return L_cable + L_misc"
   ]
  },
  {
   "cell_type": "code",
   "execution_count": null,
   "metadata": {
    "collapsed": true
   },
   "outputs": [],
   "source": [
    "#problem calculations here"
   ]
  },
  {
   "cell_type": "markdown",
   "metadata": {},
   "source": [
    "## Calculate Free Space Loss (FSL)\n",
    "\n",
    "$FSL = 96.6 + 20 * log (D) + 20 * log (f)$\n",
    "\n",
    "$FSL$ = free space loss in decibels <br>\n",
    "$D$ = distance between antenna in miles <br>\n",
    "$f$ = frequency in GHz"
   ]
  },
  {
   "cell_type": "code",
   "execution_count": 3,
   "metadata": {
    "collapsed": true
   },
   "outputs": [],
   "source": [
    "def free_space_loss(D, f):\n",
    "    return 96.6 + 20 * math.log10(D) + 20 * log10(f)"
   ]
  },
  {
   "cell_type": "code",
   "execution_count": 4,
   "metadata": {
    "collapsed": false
   },
   "outputs": [],
   "source": [
    "#problem calculations here"
   ]
  },
  {
   "cell_type": "markdown",
   "metadata": {},
   "source": [
    "## Set Mutipath Fade Margin (MFM)\n",
    "### Using the Barnett & Vigants Method:\n",
    "\n",
    "$MFM = -10 * log[(i - PR) / (2.5*10^{-6} * a * b * f * D^3)]$\n",
    "\n",
    "$PR$ = path avaliability percentage <br>\n",
    "$a$ = terrain factor <br>\n",
    "$b$ = climate factor <br>\n",
    "$f$ = frequency in GHz <br>\n",
    "$D$ = path length in miles between antenna<br>\n",
    "\n",
    "**Notes:**\n",
    "- **a** values vary according to terrain type: {**4**: for very smooth terrain (water, flat desert), **1**: average terrain with some roughness, **0.25**: for mountains and very rough terrain}\n",
    "- **b** values vary according to climate: {**1**: for humid climates, **0.5**: for average climate, **0.25**: for dry climate}\n",
    "- Select a **PR** based on the intended link availability percentage."
   ]
  },
  {
   "cell_type": "code",
   "execution_count": 5,
   "metadata": {
    "collapsed": false
   },
   "outputs": [],
   "source": [
    "def multipath_fade_margin(PR, a, b, f, D):\n",
    "    return (-10 * math.log10((1 - (PR / 100)) / (2.5 * (10.0 ** -6) * a * b * f * (D ** 3))))"
   ]
  },
  {
   "cell_type": "code",
   "execution_count": 6,
   "metadata": {
    "collapsed": false
   },
   "outputs": [],
   "source": [
    "#problem calculations here"
   ]
  },
  {
   "cell_type": "markdown",
   "metadata": {},
   "source": [
    "## Calculate Recieved Signal Strength (RSL)\n",
    "\n",
    "$RSL = P_O - L_{tx} + G_{atx} - FSL - MFM - RA - L_{rc} + G_{rc} - L_m - L_{atm} - A_{ve}$\n",
    "\n",
    "$P_O$ = transmitter power output in dBm <br>\n",
    "$L_{tx}$ = losses between transmitter and transmit antenna in dB <br>\n",
    "$G_{atx}$ = transmit antenna gain in dB <br>\n",
    "$A_{ve}$ = vegitation attenuation in dB (use $A_{et}$ for single vegitative obstruction)<br>\n",
    "$FSL$ = free space loss in dB <br>\n",
    "$MFM$ = multipath fade margin in dB <br>\n",
    "$RA = \\gamma_R * D$ = rain attenuation in dB <br>\n",
    "$L_{rc}$ = losses between reciever and recieve antenna in dB <br>\n",
    "$G_{rc}$ = recieve antenna gain in dB <br>\n",
    "$L_m$ = micellaneous losses (obstacles, antenna misalignment, antenna aging, etc.) in dB <br>\n",
    "$L_{atm}$ = atmospheric attenuation in dB\n",
    "\n",
    "#### Rain Attenuation (from \"Recommendation ITU-R P.838-2\"):\n",
    "$\\gamma_R = k * R^\\alpha$\n",
    "\n",
    "$\\gamma_R$ = specific rain attenuation in dB/km <br>\n",
    "$k$ & $\\alpha$ = frequency specific coefficients from ITU-R P.838-2 tables\n",
    "\n",
    "#### Atmospheric Attenuation (from \"Recommendation ITU-R P.676-5\"):\n",
    "Simplified formula from Annex 2 for Terrestrial Paths (1 - 350 GHz), using Figure 5 values for specific attenuation:\n",
    "\n",
    "$L_{atm} = \\gamma * r_0 = (\\gamma_o + \\gamma_w) * r_0$\n",
    "\n",
    "$\\gamma$ = total attenuation by atmosphere in dB/km <br>\n",
    "$\\gamma_o$ = attenuation due to dry air in dB/km <br>\n",
    "$\\gamma_w$ = attenuation due to water in atmosphere in dB/km <br>\n",
    "$r_0$ = link distance in km\n",
    "\n",
    "#### Vegitation Attenuation (from \"Recommendation ITU-R P833-4\"):\n",
    "##### For non-single vegetative obstruction: \n",
    "\n",
    "$A_{ve} = A_m * [1 - exp ((-d * \\gamma)/A_m)]$\n",
    "\n",
    "$d$ = length of path within woodland in meters <br>\n",
    "$\\gamma$ = specific attenuation for very for vegatative paths in dB/meter <br>\n",
    "$A_m$ = maximum attenuation for one terminal within a specific type and depth of vegetation in dB <br>\n",
    "\n",
    "$A_m = A_1 * f^\\alpha$\n",
    "\n",
    "$f$ = frequency in MHz <br>\n",
    "$A_1$ & $\\alpha$ depend on the vegitation type, density, and other factors. ITU-R P833-4 provide experimental values.\n",
    "\n",
    "##### For single vegetative obstruction at or below 3 GHz:\n",
    "$A_{et} = d * \\gamma$\n",
    "\n",
    "\n",
    "**Notes**: \n",
    "- $L_m$ is assumed to be **6.0** dB to account for attenna misalignment and system aging + **Obstacle losses**\n",
    "- Obstacle losses (knife-edge approximation): {**0 dB**: no objects in 60% Fresnel Zone, **6 dB**: tip of object in middle of LOS, **16 dB** for tip of object at top of first Fresnel Zone, **20 dB**: for object tip above first Fresnel Zone}\n",
    "\n",
    "\n"
   ]
  },
  {
   "cell_type": "code",
   "execution_count": 1,
   "metadata": {
    "collapsed": true
   },
   "outputs": [],
   "source": [
    "\"\"\"Equations required to perform RSL calculations\"\"\"\n",
    "\n",
    "def rain_attenuation(k, alpha, D, R, D_in_miles = True):\n",
    "    if D_in_miles:\n",
    "        D = D * 1.60934 #convert distance input in miles to km\n",
    "    delta_R = k * R ** alpha #specific rain attenutation dB/km\n",
    "    return float(delta_R * D)\n",
    "\n",
    "def atmospheric_attenuation(atten_oxy, atten_water, D, D_in_miles = True):\n",
    "    if D_in_miles:\n",
    "        D = D * 1.60932 #convert distance input in miles to km\n",
    "    return float((atten_oxy + atten_water) * D)\n",
    "\n",
    "def veg_atten_multi(path_length_veg, specific_atten, A_1, alpha, frequency, D_in_miles = True, f_in_GHz = True):\n",
    "    if D_in_miles:\n",
    "        D = D * 1609.34 #convert distance input in miles to meters\n",
    "    if f_in_GHz:\n",
    "        frequency = frequency / 1000.0 #convert frequency in GHz to MHz\n",
    "    max_atten = A_1 * frequency ** alpha\n",
    "    return float(max_atten * (1 - math.exp((-d * specific_atten) / max_atten)))\n",
    "\n",
    "def veg_atten_single(path_length_veg, gamma, D_in_miles = True):\n",
    "    if D_in_miles:\n",
    "        D = D * 1609.34 #convert distance input in miles to meters\n",
    "    return float(path_length_veg * gamma)\n",
    "\n",
    "def RSL(P_O, L_tx, G_atx, FSL, MFM, RA, L_rc, G_rc, L_m, L_atm, A_ev):\n",
    "    return float(P_O - L_tx + G_atx - FSL - MFM - RA - L_rc + G_rc - L_m - L_atm - A_ve)\n",
    "\n",
    "def check_system(recieved_signal_strength, min_recieve_sensitivity):\n",
    "    check = recieved_signal_strength > min_recieve_sensitivity\n",
    "    print \"Recieved Signal Strength is adequate:\", check "
   ]
  },
  {
   "cell_type": "code",
   "execution_count": 8,
   "metadata": {
    "collapsed": false
   },
   "outputs": [],
   "source": [
    "#problem caluculations here"
   ]
  }
 ],
 "metadata": {
  "anaconda-cloud": {},
  "kernelspec": {
   "display_name": "Python [Root]",
   "language": "python",
   "name": "Python [Root]"
  },
  "language_info": {
   "codemirror_mode": {
    "name": "ipython",
    "version": 2
   },
   "file_extension": ".py",
   "mimetype": "text/x-python",
   "name": "python",
   "nbconvert_exporter": "python",
   "pygments_lexer": "ipython2",
   "version": "2.7.12"
  }
 },
 "nbformat": 4,
 "nbformat_minor": 0
}
